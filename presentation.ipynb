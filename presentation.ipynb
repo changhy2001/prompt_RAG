{
 "cells": [
  {
   "cell_type": "code",
   "execution_count": null,
   "metadata": {},
   "outputs": [],
   "source": [
    "%pip install openai langchain PyPDF2 pypdf\n",
    "%pip install -U langchain-community\n",
    "%pip install python-dotenv"
   ]
  },
  {
   "cell_type": "code",
   "execution_count": 170,
   "metadata": {},
   "outputs": [],
   "source": [
    "import os\n",
    "from openai import OpenAI\n",
    "from dotenv import load_dotenv\n",
    "\n",
    "load_dotenv()\n",
    "\n",
    "openai_api_key = os.getenv(\"OPENAI_API_KEY\")\n",
    "client = OpenAI()"
   ]
  },
  {
   "cell_type": "markdown",
   "metadata": {},
   "source": [
    "## PDF 바탕으로 1차로 전처리 후 md로 저장. \n",
    "## 그 md 파일을 바탕으로 답변 생성\n",
    "\n",
    "(정확도 증가)"
   ]
  },
  {
   "cell_type": "markdown",
   "metadata": {},
   "source": [
    "### Full text를 다 넣어줬을 때 (카테고라이징 전)"
   ]
  },
  {
   "cell_type": "code",
   "execution_count": 172,
   "metadata": {},
   "outputs": [
    {
     "name": "stdout",
     "output_type": "stream",
     "text": [
      "답변: 제공된 문서에는 \"ERP-iU에서 PIVOT 기능은 어떤 용도로 사용되나요?\"와 관련된 정보가 없습니다.\n"
     ]
    }
   ],
   "source": [
    "question = \"ERP-iU에서 PIVOT 기능은 어떤 용도로 사용되나요?\"\n",
    "\n",
    "with open(\"document/example.md\", 'r', encoding='utf-8') as txt_file:\n",
    "        pdf_text = txt_file.read()\n",
    "\n",
    "prompt = f\"\"\"\n",
    "# 목표\n",
    "- 사용자 질문을 분석하여 핵심 정보를 파악합니다.\n",
    "- 제공된 문서에서 관련 내용을 찾아 정확하고 구체적인 답변을 제공합니다.\n",
    "- 문서에 해당 내용이 없을 경우, \"제공된 문서에는 해당 정보가 없습니다.\"라고 응답하세요.\n",
    "- 전문 용어가 필요할 경우, 제공된 용어집을 참고하여 적절한 용어를 사용하세요.\n",
    "- 응답 형식은 간결하지만, 필요하면 세부적인 정보를 포함해야 합니다.\n",
    "\n",
    "# 제약 사항\n",
    "- 문서에 있는 정보만 사용하여 답변하세요.\n",
    "- 불확실한 정보는 생성하지 마세요.\n",
    "- 질문과 직접적으로 관련된 문서 내용을 인용하여 답변을 작성하세요.\n",
    "\n",
    "# 입력 문서\n",
    "다음은 사용자가 제공한 문서 내용입니다.\n",
    "{pdf_text}\n",
    "\n",
    "# 사용자의 질문 \n",
    "{question}\n",
    "\n",
    "\"\"\"\n",
    "\n",
    "response = client.chat.completions.create(\n",
    "        model=\"gpt-4o-mini\",\n",
    "        messages=[\n",
    "            {\"role\": \"system\", \"content\": \"문서 내용을 참고해서 질문에 대해 답변해주세요.\"},\n",
    "            {\"role\": \"user\", \"content\": prompt}\n",
    "        ]\n",
    "    )\n",
    "\n",
    "print(\"답변: \" + response.choices[0].message.content)"
   ]
  },
  {
   "cell_type": "markdown",
   "metadata": {},
   "source": [
    "### 카테고라이징 후"
   ]
  },
  {
   "cell_type": "markdown",
   "metadata": {},
   "source": [
    "문서 전처리"
   ]
  },
  {
   "cell_type": "code",
   "execution_count": 173,
   "metadata": {},
   "outputs": [],
   "source": [
    "import re\n",
    "\n",
    "# 카테고리 생성 함수\n",
    "def generate_categorized_txt(input_file_path):\n",
    "    with open(input_file_path, 'r', encoding='utf-8') as file:\n",
    "        content = file.read()\n",
    "\n",
    "    prompt = f\"\"\"\n",
    "    # 목표\n",
    "    - 문서의 주요 내용을 파악하여 논리적인 목차를 구성합니다.\n",
    "    - 목차는 계층적으로 구성되며, 최대 2단계까지 세분화됩니다.\n",
    "    - 일관된 포맷을 유지해야 합니다.\n",
    "\n",
    "    # 출력 형식\n",
    "    출력은 다음과 같은 형식을 따라야 합니다.\n",
    "    1. [대주제] 1.1 [중주제]\n",
    "\n",
    "    # 지침\n",
    "    - 제목을 최대한 간결하게 작성합니다.\n",
    "    - 중복되는 내용을 배제하고, 문서의 핵심 내용을 반영합니다.\n",
    "    - 문서의 흐름을 고려하여 논리적인 순서로 정리합니다.\n",
    "\n",
    "    # 입력\n",
    "    다음은 분석할 Markdown 문서입니다:\n",
    "\n",
    "    {content}\n",
    "\n",
    "    # 출력 예시\n",
    "    1. 원가계산체계정의\n",
    "        1.1 원가계산기준\n",
    "        1.2 원가구조 및 원가계정체계\n",
    "        1.3 표준재고단가등록\n",
    "        1.4 제품재투입단가등록/제품이동단가등록\n",
    "\n",
    "    # 출력\n",
    "    (여기에 목차를 출력)\n",
    "    ...\n",
    "    \"\"\"\n",
    "\n",
    "    response = client.chat.completions.create(\n",
    "            model=\"gpt-4o-mini\",\n",
    "            messages=[ \n",
    "                {\"role\": \"system\", \"content\": \"당신은 문서 분석을 전문으로 하는 AI입니다. 주어진 Markdown 파일의 내용을 기반으로 정확하고 논리적인 목차를 생성하세요.\"},\n",
    "                {\"role\": \"user\", \"content\": prompt}\n",
    "            ],\n",
    "            temperature = 0.2\n",
    "        )\n",
    "\n",
    "    table_of_contents = response.choices[0].message.content\n",
    "\n",
    "    output_file_path = \"document/categorized.md\"\n",
    "    with open(output_file_path, 'w', encoding='utf-8') as output_file:\n",
    "        output_file.write(table_of_contents)\n",
    "\n",
    "    return table_of_contents"
   ]
  },
  {
   "cell_type": "code",
   "execution_count": null,
   "metadata": {},
   "outputs": [
    {
     "data": {
      "text/plain": [
       "'```\\n1. ERP-IU 소개\\n    1.1 ERP-IU란?\\n    1.2 시스템 운영환경\\n    1.3 ERP-IU 기술 정보\\n    1.4 ERP-IU 회계 메뉴 구성도\\n    1.5 ERP-IU 기능 소개\\n    1.6 ERP-IU Client 프로그램 설치\\n    1.7 프로그램 작업순서\\n\\n2. 시스템 관리\\n    2.1 시스템 현황정보\\n        2.1.1 DD 관리\\n        2.1.2 자료 IMPORT\\n        2.1.3 다국어 입력\\n    2.2 시스템 기준정보\\n        2.2.1 코드관리\\n        2.2.2 자동채번등록\\n        2.2.3 통제환경설정관리\\n        2.2.4 환율정보등록\\n        2.2.5 리포트 관리 등록\\n        2.2.6 시스템 환경설정\\n        2.2.7 도움창 환경설정\\n        2.2.8 회계환경설정\\n    2.3 거래처 정보\\n        2.3.1 거래처정보관리\\n        2.3.2 거래처조회\\n        2.3.3 거래처정보 변경내역\\n    2.4 시스템 권한정보\\n        2.4.1 그룹정보 등록\\n        2.4.2 사용자정보 등록\\n        2.4.3 권한관리\\n        2.4.4 그룹메뉴 관리\\n        2.4.5 사용자 메뉴관리\\n        2.4.6 세부권한 환경설정\\n        2.4.7 사용자별 세부권한\\n        2.4.8 처리버튼 권한설정\\n        2.4.9 환경설정 권한등록\\n\\n3. 회계기준정보\\n    3.1 기초자료 등록\\n        3.1.1 예적금계좌등록\\n        3.1.2 신용카드등록\\n        3.1.3 사업자등록번호\\n        3.1.4 휴일정보등록\\n    3.2 계정설정\\n        3.2.1 계정등록\\n        3.2.2 관리항목등록\\n        3.2.3 관리내역등록\\n        3.2.4 계정별적요등록\\n        3.2.5 관리항목일괄변경\\n        3.2.6 자금과목등록\\n        3.2.7 작성부서-계정과목연결\\n        3.2.8 코스트센터-계정과목 연결\\n    3.3 재무제표 설정\\n        3.3.1 재무제표양식지정\\n        3.3.2 계정그룹등록\\n        3.3.3 계정과목연결\\n        3.3.4 현금흐름항목등록\\n\\n4. 재무관리\\n    4.1 전표관리\\n        4.1.1 전표입력\\n        4.1.2 전표승인\\n        4.1.3 전표조회출력\\n        4.1.4 전표체크리스트\\n        4.1.5 자동전표체크리스트\\n        4.1.6 본지점 전표 일괄처리\\n        4.1.7 전표삭제이력관리\\n        4.1.8 전표자료조회\\n        4.1.9 전표변경내역조회\\n        4.1.10 전표복사\\n        4.1.11 결의서입력(자동전표입력)\\n    4.2 장부관리\\n        4.2.1 분개장\\n        4.2.2 일(월)계표\\n        4.2.3 총계정원장(일, 월)\\n        4.2.4 계정별원장\\n        4.2.5 현금출납장\\n        4.2.6 주요계정 증감현황\\n        4.2.7 매입매출장\\n        4.2.8 거래처원장잔액\\n        4.2.9 거래처원장상세\\n        4.2.10 본지점정리현황\\n    4.3 보조장부관리\\n        4.3.1 보조원장잔액 1\\n        4.3.2 보조원장잔액 2\\n        4.3.3 보조원장잔액 3\\n        4.3.4 보조원장잔액 4\\n        4.3.5 보조원장잔액 5\\n        4.3.6 보조원장잔액 6 (이월값 제외)\\n        4.3.7 보조부원장상세 1\\n        4.3.8 보조부원장상세 2\\n        4.3.9 보조부원장상세 3\\n        4.3.10 보조부원장상세 4\\n        4.3.11 보조부원장상세 5\\n        4.3.12 보조부원장상세 6 (이월값 제외)\\n\\n5. 건별 반제관리\\n    5.1 건별 반제정리현황\\n    5.2 계정잔액 명세서\\n    5.3 채권연령분석\\n\\n6. 외화관리\\n    6.1 외화계정별원장\\n    6.2 외화계정잔액명세서\\n    6.3 외화예적금거래내역\\n    6.4 외화보조원장(잔액)\\n    6.5 외화보조원장(상세)\\n\\n7. 재무제표 관리\\n    7.1 합계잔액 시산표\\n    7.2 재무상태표\\n    7.3 손익계산서\\n    7.4 제조원가보고서\\n    7.5 현금흐름표\\n    7.6 이익잉여금처분계산서\\n    7.7 자본변동표\\n    7.8 기간별손익계산서\\n\\n8. 결산관리\\n    8.1 결산전표처리(기간손익등)\\n    8.2 결산대체관리(원가/손익)\\n    8.3 역분개전표처리\\n\\n9. 손익관리\\n    9.1 C/C 별 손익현황(기간별)\\n    9.2 C/C 별 손익현황\\n    9.3 관리항목별 손익현황\\n    9.4 C/C 별 손익현황(원가)\\n    9.5 월별 손익현황(원가)\\n    9.6 프로젝트별 월별 손익현황\\n    9.7 프로젝트별 손익현황\\n\\n10. 원가관리\\n    10.1 C/C 별 원가현황 (기간별)\\n    10.2 C/C 별 원가현황\\n    10.3 관리항목별 원가현황\\n    10.4 프로젝트별 월별 원가현황\\n    10.5 프로젝트별 원가현황\\n\\n11. 배부관리\\n    11.1 배부단위 등록\\n    11.2 배부단위 그룹 등록\\n    11.3 배부대상단위 연결\\n    11.4 배부기준 등록\\n    11.5 계정별 배부기준\\n    11.6 배부기준율 등록\\n    11.7 배부계산\\n    11.8 배부 후 손익/원가\\n```'"
      ]
     },
     "execution_count": 21,
     "metadata": {},
     "output_type": "execute_result"
    }
   ],
   "source": [
    "input_file_path = \"document/example.md\"\n",
    "generate_categorized_txt(input_file_path)"
   ]
  },
  {
   "cell_type": "code",
   "execution_count": null,
   "metadata": {},
   "outputs": [],
   "source": [
    "# 파일의 내용을 불러오는 함수\n",
    "def load_data_from_file(filename):\n",
    "    texts = []\n",
    "    with open(filename, 'r', encoding='utf-8') as file:\n",
    "        for line in file:\n",
    "            text = line.strip()\n",
    "            if text:\n",
    "                texts.append(text)\n",
    "    return texts"
   ]
  },
  {
   "cell_type": "code",
   "execution_count": null,
   "metadata": {},
   "outputs": [
    {
     "name": "stdout",
     "output_type": "stream",
     "text": [
      "[\"1. ERP-IU 소개\", \"2. 시스템 관리\", \"3. 회계기준정보\", \"4. 재무관리\", \"5. 건별 반제관리\", \"6. 외화관리\", \"7. 재무제표 관리\", \"8. 결산관리\", \"9. 손익관리\", \"10. 원가관리\", \"11. 배부관리\"]\n"
     ]
    }
   ],
   "source": [
    "categories = load_data_from_file(\"document/categorized.md\")\n",
    "\n",
    "def select_tag_from_category(categories):\n",
    "    prompt = f\"\"\"\n",
    "\n",
    "    # 목표\n",
    "    - 목차의 최상위 레벨(1단계) 항목을 태그로 변환합니다.\n",
    "    - 태그는 **반드시** 최상위 항목의 제목을 그대로 사용해야 합니다.\n",
    "    - 태그는 str 형식으로 반환되어야 합니다.\n",
    "\n",
    "    # 입력\n",
    "    다음은 목차입니다:\n",
    "    {categories}\n",
    "\n",
    "    # 출력 형식\n",
    "    - 태그는 반드시 아래 형식을 따라야 합니다.\n",
    "    [\"1. 최상위 항목1\", \"2. 최상위 항목2\", \"3. 최상위 항목3\"]\n",
    "\n",
    "    # 예시\n",
    "    ## 입력\n",
    "    카테고리:\n",
    "    1. 대학교\n",
    "        1.1 입학 준비\n",
    "        1.2 학과 소개\n",
    "    2. 중학교\n",
    "        2.1 학생 지원\n",
    "        2.2 교육과정\n",
    "    3. 교육정책\n",
    "        3.1 교육과정 개편\n",
    "        3.2 교육과정 평가\n",
    "    4. 입시제도\n",
    "        4.1 입시제도 개편\n",
    "        4.2 입시제도 평가\n",
    "    \n",
    "    ## 출력\n",
    "    [\"1. 대학교\", \"2. 중학교\", \"3. 교육정책\", \"4. 입시제도\"]\n",
    "\n",
    "    \"\"\"\n",
    "    response = client.chat.completions.create(\n",
    "        model=\"gpt-4o-mini\",\n",
    "        messages=[\n",
    "            {\"role\": \"system\", \"content\": \"당신은 문서 분석을 전문으로 하는 AI입니다. 주어진 목차를 분석하여 최상위 항목을 기반으로 태그를 생성해야 합니다.\"},\n",
    "            {\"role\": \"user\", \"content\": prompt}\n",
    "        ]\n",
    "    )\n",
    "\n",
    "    return response.choices[0].message.content\n",
    "\n",
    "tags = select_tag_from_category(categories)\n",
    "print(tags)"
   ]
  },
  {
   "cell_type": "markdown",
   "metadata": {},
   "source": [
    "### 사용자 질문에서 관련 카테고리 추출"
   ]
  },
  {
   "cell_type": "code",
   "execution_count": 174,
   "metadata": {},
   "outputs": [],
   "source": [
    "# 사용자가 질문을 입력하면 해당 카테고리 항목을 반환하는 함수\n",
    "def score_tag_for_question(question):\n",
    "\n",
    "    prompt = f\"\"\"\n",
    "    # 목표\n",
    "    - 사용자의 질문을 분석하여 핵심 주제를 파악합니다.\n",
    "    - 주어진 카테고리를 바탕으로 모든 태그에 대해 0~100 사이로 점수를 매깁니다. \n",
    "\n",
    "    # 입력\n",
    "    사용자의 질문과 카테고리 및 태그 목록이 주어집니다.\n",
    "\n",
    "    질문: {question}\n",
    "    \n",
    "    카테고리: {categories}\n",
    "    태그: {tags}\n",
    "\n",
    "    # 평가 기준\n",
    "    - 관련성 (40점): 사용자의 질문과 가장 관련성이 높은 태그를 선택했는가?\n",
    "    - 의미적 유사도 (30점): 질문의 의도가 해당 태그와 유사한가?\n",
    "    - 논리적 적절성 (30점): 태그가 질문의 문맥과 논리적으로 일관되는가?\n",
    "    \n",
    "    # 출력 형식\n",
    "    태그명1: 85\n",
    "    태그명2: 60\n",
    "    태그명3: 95\n",
    "\n",
    "    # 지침\n",
    "    - 반드시 모든 태그에 대해 점수를 매겨야합니다.\n",
    "\n",
    "    # 예시\n",
    "    ## 입력\n",
    "    질문: \"대학교 입학 준비는 어떻게 하면 좋을까요?\"\n",
    "\n",
    "    카테고리:\n",
    "    1. 대학교\n",
    "        1.1 입학 준비\n",
    "        1.2 학과 소개\n",
    "    2. 중학교\n",
    "        2.1 학생 지원\n",
    "        2.2 교육과정\n",
    "    3. 교육정책\n",
    "        3.1 교육과정 개편\n",
    "        3.2 교육과정 평가\n",
    "    4. 입시제도\n",
    "        4.1 입시제도 개편\n",
    "        4.2 입시제도 평가\n",
    "    태그: [\"1. 대학교\", \"2. 중학교\", \"3. 교육정책\", \"4. 입시제도\"]\n",
    "\n",
    "    ## 출력\n",
    "    1. 대학교: 85\n",
    "    2. 중학교: 50\n",
    "    3. 교육정책: 75\n",
    "    4. 입시제도: 90\n",
    "\n",
    "    \"\"\"\n",
    "    \n",
    "    response = client.chat.completions.create(\n",
    "            model=\"gpt-4o-mini\",\n",
    "            messages=[\n",
    "                {\"role\": \"system\", \"content\": \"당신은 사용자의 질문과 미리 정의된 카테고리를 비교하여 가장 적절한 태그를 선택하는 AI입니다. 반드시 제공된 태그 중에서만 선택해야 합니다.\"},\n",
    "                {\"role\": \"user\", \"content\": prompt}\n",
    "            ],\n",
    "            temperature = 0.2\n",
    "        )\n",
    "    \n",
    "    response_text = response.choices[0].message.content\n",
    "\n",
    "    # 모델의 응답을 기반으로 해당 카테고리 항목을 반환\n",
    "    return response_text"
   ]
  },
  {
   "cell_type": "code",
   "execution_count": null,
   "metadata": {},
   "outputs": [],
   "source": [
    "# 80 이상 점수를 받은 카테고리 항목을 반환하는 함수\n",
    "def filter_high_scores(text: str, threshold: int = 80):\n",
    "    high_scores = []\n",
    "    \n",
    "    matches = re.findall(r\"(.+?): (\\d+)\", text)\n",
    "    \n",
    "    for subject, score in matches:\n",
    "        if int(score) >= threshold:\n",
    "            high_scores.append((subject, int(score)))\n",
    "    \n",
    "    high_scores.sort(key=lambda x: x[1], reverse=True)\n",
    "    \n",
    "    return [subject for subject, score in high_scores]\n"
   ]
  },
  {
   "cell_type": "code",
   "execution_count": null,
   "metadata": {},
   "outputs": [],
   "source": [
    "import json, ast\n",
    "\n",
    "# JSON 파일을 읽어와서 선택된 태그에 해당하는 텍스트를 반환하는 함수\n",
    "def get_text_by_tags(json_file: str, selected_tags: list):\n",
    "\n",
    "    with open(json_file, \"r\", encoding=\"utf-8\") as f:\n",
    "        data = json.load(f)\n",
    "    selected_texts = {tag: data[tag] for tag in selected_tags if tag in data}\n",
    "\n",
    "    return selected_texts\n",
    "\n",
    "json_file_path = \"document/splitted.json\""
   ]
  },
  {
   "cell_type": "markdown",
   "metadata": {},
   "source": [
    "### 최종 답변 생성"
   ]
  },
  {
   "cell_type": "markdown",
   "metadata": {},
   "source": [
    "용어집 참고 전"
   ]
  },
  {
   "cell_type": "code",
   "execution_count": null,
   "metadata": {},
   "outputs": [],
   "source": [
    "# 최종 답변 생성 (용어집 참고 X)\n",
    "def generate_answer_without_glossary(question, input_text):\n",
    "    prompt = f\"\"\"\n",
    "    # 목표\n",
    "    - 사용자 질문을 분석하여 핵심 정보를 파악합니다.\n",
    "    - 제공된 문서에서 관련 내용을 찾아 정확한 답변을 제공합니다.\n",
    "    - 문서에 해당 내용이 없을 경우, \"제공된 문서에는 해당 정보가 없습니다.\"라고 응답하세요.\n",
    "    - 응답 형식은 간결하지만, 필요하면 세부적인 정보를 포함해야 합니다.\n",
    "\n",
    "    # 제약 사항\n",
    "    - 문서에 있는 정보만 사용하여 답변하세요.\n",
    "    - 불확실한 정보는 생성하지 마세요.\n",
    "    - 질문과 직접적으로 관련된 문서 내용을 인용하여 답변을 작성하세요.\n",
    "\n",
    "    # 입력 문서\n",
    "    다음은 사용자가 제공한 문서 내용입니다.\n",
    "    {input_text}\n",
    "\n",
    "    # 사용자의 질문 \n",
    "    {question}\n",
    "    \n",
    "    \"\"\"\n",
    "    \n",
    "    response = client.chat.completions.create(\n",
    "            model=\"gpt-4o-mini\",\n",
    "            messages=[\n",
    "                {\"role\": \"system\", \"content\": \"당신은 사용자가 제공한 문서를 기반으로 질문에 답하는 AI 비서입니다. 답변을 작성할 때 반드시 주어진 문서의 내용을 바탕으로 하며, 문서에 없는 정보는 절대 생성하지 마십시오.\"},\n",
    "                {\"role\": \"user\", \"content\": prompt}\n",
    "            ],\n",
    "            temperature = 0.2\n",
    "        )\n",
    "    \n",
    "    response_text = response.choices[0].message.content\n",
    "    print(response_text)\n",
    "\n",
    "    # 모델의 응답을 기반으로 해당 카테고리 항목을 반환\n",
    "    return response_text"
   ]
  },
  {
   "cell_type": "markdown",
   "metadata": {},
   "source": [
    "용어집 참고 후"
   ]
  },
  {
   "cell_type": "code",
   "execution_count": null,
   "metadata": {},
   "outputs": [],
   "source": [
    "# 용어집 로딩\n",
    "def load_glossary(glossary_file: str):\n",
    "\n",
    "    with open(glossary_file, \"r\", encoding=\"utf-8\") as f:\n",
    "        glossary = json.load(f)\n",
    "    return glossary\n",
    "\n",
    "glossary_file = \"glossary.json\"\n",
    "glossary = load_glossary(glossary_file)"
   ]
  },
  {
   "cell_type": "code",
   "execution_count": 183,
   "metadata": {},
   "outputs": [],
   "source": [
    "def generate_answer_with_glossary(question, input_text, glossary):\n",
    "    prompt = f\"\"\"\n",
    "    # 목표\n",
    "    - 사용자 질문을 분석하여 핵심 정보를 파악합니다.\n",
    "    - 제공된 문서에서 관련 내용을 찾아 정확하고 구체적인 답변을 제공합니다.\n",
    "    - 문서에 해당 내용이 없을 경우, \"제공된 문서에는 해당 정보가 없습니다.\"라고 응답하세요.\n",
    "    - 전문 용어가 필요할 경우, 제공된 용어집을 참고하여 적절한 용어를 사용하세요.\n",
    "    - 응답 형식은 간결하지만, 필요하면 세부적인 정보를 포함해야 합니다.\n",
    "\n",
    "    # 제약 사항\n",
    "    - 문서에 있는 정보만 사용하여 답변하세요.\n",
    "    - 불확실한 정보는 생성하지 마세요.\n",
    "    - 질문과 직접적으로 관련된 문서 내용을 인용하여 답변을 작성하세요.\n",
    "\n",
    "    # 용어집\n",
    "    아래는 전문 용어의 정의입니다.  \n",
    "    필요할 경우 적절한 용어를 사용하여 답변을 작성하세요.\n",
    "    {glossary}\n",
    "\n",
    "    # 입력 문서\n",
    "    다음은 사용자가 제공한 문서 내용입니다.\n",
    "    {input_text}\n",
    "\n",
    "    # 사용자의 질문 \n",
    "    {question}\n",
    "    \n",
    "    \"\"\"\n",
    "    \n",
    "    response = client.chat.completions.create(\n",
    "            model=\"gpt-4o-mini\",\n",
    "            messages=[\n",
    "                {\"role\": \"system\", \"content\": \"당신은 사용자가 제공한 문서를 기반으로 질문에 답하는 AI 비서입니다. 답변을 작성할 때 반드시 주어진 문서의 내용을 바탕으로 하며, 문서에 없는 정보는 절대 생성하지 마십시오. 또한, 전문 용어가 필요할 경우 제공된 용어집을 참고하여 정확한 용어를 사용하십시오\"},\n",
    "                {\"role\": \"user\", \"content\": prompt}\n",
    "            ],\n",
    "            temperature = 0.2 \n",
    "        )\n",
    "    \n",
    "    response_text = response.choices[0].message.content\n",
    "    print(response_text)\n",
    "\n",
    "    # 모델의 응답을 기반으로 해당 카테고리 항목을 반환\n",
    "    return response_text"
   ]
  },
  {
   "cell_type": "markdown",
   "metadata": {},
   "source": [
    "이미지 추가"
   ]
  },
  {
   "cell_type": "code",
   "execution_count": null,
   "metadata": {},
   "outputs": [],
   "source": [
    "pip install matplotlib\n"
   ]
  },
  {
   "cell_type": "code",
   "execution_count": 143,
   "metadata": {},
   "outputs": [
    {
     "name": "stderr",
     "output_type": "stream",
     "text": [
      "Matplotlib is building the font cache; this may take a moment.\n"
     ]
    }
   ],
   "source": [
    "import matplotlib.pyplot as plt\n",
    "import matplotlib.image as mpimg"
   ]
  },
  {
   "cell_type": "code",
   "execution_count": 144,
   "metadata": {},
   "outputs": [],
   "source": [
    "png_images = load_data_from_file(\"image_tag.md\")\n",
    "\n",
    "# 사용자가 질문을 입력하면 해당 카테고리 항목을 반환하는 함수\n",
    "def select_image(question):\n",
    "\n",
    "    prompt = f\"\"\"\n",
    "    \n",
    "    # 목표\n",
    "    - 사용자가 제공한 질문을 이해하고 핵심 내용을 파악합니다.\n",
    "    - 이미지 리스트에서 질문과 가장 연관성이 높은 이미지를 찾습니다.\n",
    "    - 선택한 이미지의 태그를 반환합니다.\n",
    "    - 적절한 이미지가 없을 경우, \"None\"을 반환합니다.\n",
    "\n",
    "    # 이미지 태그 예시\n",
    "    [\"1. 이미지1\", \"2. 이미지2\", \"3. 이미지3\", \"4. 이미지4\", \"5. 이미지5\"]\n",
    "\n",
    "    # 출력 형식\n",
    "    - 관련 이미지가 있을 경우: \n",
    "    [\"3. 이미지3\", \"5. 이미지5\"]\n",
    "    - 관련 이미지가 없을 경우: \n",
    "    [\"None\"]\n",
    "\n",
    "    # 사용자 질문\n",
    "    {question}\n",
    "\n",
    "    # 이미지 태그\n",
    "    {png_images}\n",
    "\n",
    "    \"\"\"\n",
    "    \n",
    "    response = client.chat.completions.create(\n",
    "            model=\"gpt-4o-mini\",\n",
    "            messages=[\n",
    "                {\"role\": \"system\", \"content\": \"당신은 이미지 데이터베이스에서 사용자의 질문과 가장 관련성이 높은 이미지를 찾는 AI 비서입니다. 당신의 목표는 질문에 가장 적합한 이미지를 식별하고 해당 이미지의 태그를 반환하는 것입니다.\"},\n",
    "                {\"role\": \"user\", \"content\": prompt}\n",
    "            ]\n",
    "        )\n",
    "    \n",
    "    response_text = response.choices[0].message.content\n",
    "    print(response_text)\n",
    "\n",
    "    # 모델의 응답을 기반으로 해당 카테고리 항목을 반환\n",
    "    return response_text\n"
   ]
  },
  {
   "cell_type": "code",
   "execution_count": 187,
   "metadata": {},
   "outputs": [],
   "source": [
    "def display_images(image_titles):\n",
    "    image_filenames = [f\"image/{title}.png\" for title in image_titles]\n",
    "\n",
    "    for image_path in image_filenames:\n",
    "        if os.path.exists(image_path):\n",
    "            img = mpimg.imread(image_path)\n",
    "            plt.imshow(img)\n",
    "            plt.axis('off')\n",
    "            plt.show()\n",
    "        else:\n",
    "            print(f\"Error: Image file '{image_path}' not found.\")"
   ]
  },
  {
   "cell_type": "markdown",
   "metadata": {},
   "source": [
    "# 여기부터 실행"
   ]
  },
  {
   "cell_type": "code",
   "execution_count": null,
   "metadata": {},
   "outputs": [
    {
     "name": "stdout",
     "output_type": "stream",
     "text": [
      "1. ERP-IU 소개: 90  \n",
      "2. 시스템 관리: 70  \n",
      "3. 회계기준정보: 60  \n",
      "4. 재무관리: 50  \n",
      "5. 건별 반제관리: 40  \n",
      "6. 외화관리: 30  \n",
      "7. 재무제표 관리: 80  \n",
      "8. 결산관리: 50  \n",
      "9. 손익관리: 40  \n",
      "10. 원가관리: 30  \n",
      "11. 배부관리: 20  \n"
     ]
    }
   ],
   "source": [
    "# 예시 질문 입력\n",
    "question = \"ERP-iU에서 PIVOT 기능은 어떤 용도로 사용되나요?\"\n",
    "\n",
    "# 각 태그의 점수 반환\n",
    "tag_score = score_tag_for_question(question)\n",
    "print(tag_score)"
   ]
  },
  {
   "cell_type": "code",
   "execution_count": null,
   "metadata": {},
   "outputs": [
    {
     "name": "stdout",
     "output_type": "stream",
     "text": [
      "['1. ERP-IU 소개', '7. 재무제표 관리']\n"
     ]
    }
   ],
   "source": [
    "# 80 이상 점수를 받은 카테고리 항목을 반환\n",
    "category_answer = filter_high_scores(tag_score)\n",
    "\n",
    "print(category_answer)"
   ]
  },
  {
   "cell_type": "code",
   "execution_count": null,
   "metadata": {},
   "outputs": [
    {
     "name": "stdout",
     "output_type": "stream",
     "text": [
      "### 1. ERP-IU 소개 ###\n",
      "1. ERP-IU 는? 최신의 정보기술(IT)을 활용하여 수주에서 출하까지의 일련의 업무흐름과 생산관리, 영업/구매관 리, 관리/재무회계, 인사/급여관리 등의 기업의 ‘ERP(전사적자원계획/관리)’를 지원하는 통합경영 정보시스템이다.  서비스 지향 중심의 업무 기능,  자료 중심의 프로세스 구현이 가능  중소기업에서부터 중견기업에 이르기까지 다양한 고객의 업무 프로세스를 효과적으로 구 현  표준 비즈니스 프로세스 도입으로 기업 생산성 향상  단위 업무의 모듈화 및 통합성 추구  현장과 경영의 일체화 2. 시스템 운영환경 Server: IIS (Internet Information Server), MTS(Microsoft Transaction Server), Software 의 구성 APP svr(Application server) Client: web Browser Server: Server 용 컴퓨터 1 대 이상 보유, 최소요구사양 - CPU 펜티엄 Hardware 의 구성 dualcore 이상, RAM 4G 이상, HDD 100GB 이상 Client: Window XP 이상 모든 PC O/S (Operating System) Server: Microsoft Windows 2003 Server, Advanced Server, 향후 .NET Server Client: Microsoft Windows XP 이상 데이터베이스 개발툴: Visual Studio .NET (C#, ASP.NET) 데이터베이스: SQL Server 2005 이상 서버 구동환경: Microsoft .NET Framework, COM+, .NET Remoting, IIS 클라이언트 구동환경: Microsoft .NET Framework, COM+, .NET Remoting 13 3. ERP-IU Technology Information 구 분 Description 업무프로세스의 • Module 간의 Interface 를 통하여 영업의 수주에서, 출고, 회계까지 실시간 통합성 자료 처리 ERP 엔진의 안전성 개방성 및 확장성 통합 및 분산 시스템 개선 GUI 등의 사용자 편의성 자료의 보안 • 기 구축된 여러 SITE 에서 검증 • 실시간 자재재고(ON HAND, SCHEDULE, RECEIPT)를 근간으로 발주정책 및 기타 관련업무의 Flow 를 신속하게 결정할 수 있도록 지원 • CASE TOOL 을 사용하여 업무 분석의 효율화를 꾀함. • 4GL(PB) 사용으로 자료의 중복 구조를 피함 • SQL 및 ORACLE 과 같은 개방형 DB ARCHITECTURE 를 사용하여 확장성 및 자료 관리의 효율성을 꾀하였음 • 관련 모듈간의 통합처리 및 각 모듈 별 분산처리가 파라미터로 실행 • 복수의 플랫폼에서 운영될 수 있는 개방형 시스템 탑재 • 기존의 PC 를 클라이언트로 재활용 • ORACLE 및 MS SQL 과 같은 상용 데이터베이스와의 통합화로 실시간 정 보제공 가능 • 사용자에게 친숙한 Interface 제공 • 주요업무에 대한 Data 의 Graph 제공 • 모든 출력물의 Data 를 엑셀 및 기타 유용한 file 형식으로 변환 가능 • 외부적인 보안은 Server 의 IP 와, 방화벽 및 Net Masking 등으로 유지 • 모듈 별 사용자 권한 및 메뉴 별 사용권한 통제를 지원 14 4. ERP-IU 회계 메뉴 구성도 전표관리 장부/재무제표관리 결산/손익(원가)관리 • 전표입력 • 전표승인 • 전표조회출력 • 자동전표체크리스트 • 전표삭제수정이력관리 • 결의서관리 • 전표복사 등.. • 분개장 • 총계정원장 • 계정별원장 • 현금출납장 • 매입매출장 • 거래처계정잔액 • 거래처계정내역 • 합계잔액시산표 • 재무상태표 • 손익계산서 / 제조원가보고서 등 • 상각/외화평가/기간비용 결산전표처리 • 결산자료입력 • 원가/손익대체 결산전표처리 • 역분개전표처리 • 결산부속명세서관리 • 관리항목별 손익/원가 보고서 • 코스트센터별 손익/원가 보고서 • 프로젝트별 손익/원가 보고서 등.. 지급관리 은행연동 고정자산관리 • 지급조건등록 • 지급내역입력 • 지급내역전표처리 • 지급이체파일생성 등.. • 은행거래내역조회 • 외화은행거래내역조회 • 법인카드승인내역조회 • 이체내역관리 • 이체내역현황 등.. • 고정자산등록 • 감가상각비현황 • 고정자산명세서 • 고정자산변동현황 • 고정자산관리대장 • 자산일괄이동처리 • 자산일괄매각폐기처리 등.. 자금관리 예산관리 부가가치세관리 • 예산신청/승인 • 예산배정/승인 • 예산조정/승인 • 예실대비현황 • 예실대비손익계산서 등.. • 부가세신고서 • 세금계산서합계표 • 세금계산서전산매체작성 • 수출실적전산매체작성 • 공제받지못할매입세액명세서 • 의제매입세액공제신청서 • 건물등 감가상각자산취득명세서 • 사업자단위과세 사업장별세액명세서 • 사업장별세액신고서 등.. • 자금계획입력 • 자금현황 • 자금계획대비실적현황 • 자금일보 • 예적금대장 • 받을어음 / 지급어음 관리 • 전자어음관리 • 차입금관리 • 대여금관리 등.. 전자신고 • 국세청 전자신고 파일 생성 15 5. ERP-IU 기능 소개 ERP-IU 에서는 모든 개별 메뉴에서(특정메뉴 제외) 오른쪽마우스를 클릭하여 조회 완료된 자료 중에서 특정조건으로 찾기, 엑셀전환, 컬럼숨기기, 컬럼순서변경을 손쉽게 사용 할 수 있는 기능 이 있다.  하단 결과 값에서 오른쪽 마우스를 클릭하면 위 화면과 같은 창이 나타난다.  데이터 변환: 화면에 조회된 내용을 엑셀 전환할 수 있으며, 사용자정의 하여 출력 가능 하다.  인쇄: 화면에 조회된 조회화면을 그대로 인쇄 할 수 있도록 한다.  클립보드 복사: 한 줄, 전체 또는 블록 복사하여 붙여 넣기 할 수 있다 16  찾기: 특정 컬럼의 값을 찾을 때 사용한다.  필터링: 조회된 값을 필터 할 수 있는 기능이다.  틀고정: 엑셀에서의 틀고정과 같은 기능으로 선택한 컬럼을 기준으로 틀고정이 된다.  컬럼숨기기/보이기: 컬럼들 간의 조회되는 순서와 숨기기와 보이기를 설정할 때 사용한 다. 17 ① 컬럼숨기기/보이기 - 컬럼숨기기를 원할 경우 해당 컬럼 체크박스의 체크를 해제한다. - 컬럼보이기를 원할 경우 해당 컬럼 체크박스에 체크한다 ② 컬럼순서변경 - 위, 아래 화살표로 컬럼의 순서를 변경할 수 있다.  간이계산기: 화면에서 간단히 계산을 할 수 있도록 계산기 기능을 지원한다.  메모: 엑셀에서의 메모기능과 같은 메모기능을 제공한다. 18  체크라인: 조회된 조회화면에 언더라인을 표시 할 수 있다. 19 6. ERP-IU Client 프로그램 설치 설치파일이 저장된 서버로 접속해야 한다. 서버주소는 다음과 같다. http:// 해당 IP 주소 /ERP-IU/install/index.html http://erpuupdate.duzon.co.kr/install (IP 정보를 모르는 경우 이 주소로도 설치가능)  서버에 접속하면 위 화면의 브라우저 설치 간단한 설명을 클릭한다.  브라우저 설치를 클릭시 아래의 화면으로 넘어가며 (1. 닷넷 프레임웍 2.0 설치, 2. 전용 브라우저 설치)를 차례대로 설치하면 된다. 20  Windows Installer 4.5 이 설치되어 있지 않는 경우 아래 메세지의 Windows Installer 4.5 Download 를 클릭하여 설치하면 된다.  모든 프로그램 설치가 완료되면 바탕화면에 ERP-IU 아이콘이 생기며 아이콘을 클릭 후 서버정보를 설정하는 화면이 나오면 아래와 같이 설정하면 된다. ① Business Host Server URL: http:// 해당 IP 주소 /ERP-IU ② Assembly Host Server URL: http:// 해당 IP 주소 /ERP-IU ③ Server Key: 해당 서버키  서버설정 후 확인을 누르면 자료가 업데이트 되며 ERP-IU 설치가 완료된다. 21 7. 프로그램 작업순서 프로그램을 실행하기 위해서는 다음과 같은 순서로 기초 등록사항들을 등록한다. 22 ☞ ERP-IU 기준정보 코드체계 기 준 정 보 최 대 자 릿 수 비 고 조직변경을 고려하여 부여한다. 1. 회사코드 2. 회계단위코드 3. 사업장코드 4. 부서코드 5. 코스트센터코드 6. 사원코드 7. 거래처코드 8. 계정코드 9. 프로젝트코드 10. 예적금코드 11. 예산계정코드 12. 자금과목코드 13. 자산코드 14. 관리내역코드 15. 어음번호 16. 차입금코드 17. 유가증권번호 18. 신용카드번호 19. 적요코드 7 자리문자 7 자리문자 7 자리문자 12 자리이내문자 12 자리이내문자 10 자리이내문자 20 자리문자 10 자리문자 20 자리이내문자 20 자리이내문자 10 자리문자 4 자리문자 20 자리문자 3 자리이내문자 20 자리이내문자 20 자리이내문자 20 자리이내문자 20 자리이내문자 3 자리이내숫자 23 \n",
      "\n",
      "### 7. 재무제표 관리 ###\n",
      "1) 합계잔액 시산표 합계잔액시산표는 입력된 자료가 대차차액없이 정확히 처리되었는지를 검증하는 기능이 있다. 따라서 결산 전 또는 결산 후에 시산표를 작성하므로써, 전표처리의 정확성을 확인할 수 있다. 본 메뉴는 입력된 자료에 의한 월별 합계잔액시산표를 조회, 출력할 수 있다.  회계단위, 기준일자, 계정레벨을 선택한 다음 (조회) 버튼을 누르면 해당 조건의 합계잔 액시산표가 조회된다.   '회계단위'를 복수로 선택하면 여러 회계단위의 자료가 합산되어서 조회된다. '계정과목'을 더블클릭하면 계속해서 [계정별원장] 및 [전표조회]까지 가능해진다. 195 2) 재무상태표 재무상태표는 일정한 시점에 있어서 기업의 재무상태를 나타내는 표로서 정태적 보고서이다. 운영계산서를 작성하고 난 후의 당기운영차액은 대차대조표상 미사용이월자금에 주기하여 표시 된다.  회계단위, 기준일자, 계정레벨을 선택한 다음 (조회) 버튼을 누르면 해당 조건의 대차대 조표가 조회된다.  '회계단위'를 멀티 선택하면 여러 회계단위의 자료가 합산되어서 조회된다.  당기 기준일자, 전기 기준일자를 원하는 기간으로 조회한다. 196 3) 손익계산서 손익계산서란 일정기간(보통 1 회계기간) 동안의 경영성과를 나타내는 동태적 보고서를 말한다. 프로그램에서의 손익계산서는 입력된 자료에 의하여 특별한 작업없이도 매월 말의 손익계산서를 기간별로 조회할 수 있다  회계단위, 기준일자, 계정레벨을 선택한 다음 (조회) 버튼을 누르면 해당 조건의 손익계 산서가 조회된다.  '회계단위'를 복수로 선택하면 여러 회계단위의 자료가 합산되어서 조회된다.  당기 기준일자, 전기 기준일자를 원하는 기간으로 조회한다.  손익계산서는 결산 대체 분개를 하여 매출원가를 정확히 산정했을 경우만 정확한 내용을 보여주는 것이다. 대체 분개를 하지 않은 경우 매출액과 판관비만 보여주게 된다. 197 4) 제조원가보고서 원가명세서는 손익계산서의 매출원가가 어떻게 산출된 것인지 그 내역을 기록한 재무제표 부속 명세서로서 제조업인 경우는 제조원가명세서를, 건설업인 경우에는 건설형태에 따라 도급공사원 가명세서, 분양공사원가명세서 등으로 구분된다. 제조원가보고서는 제품을 제조하는 회사의 제품에 대한 정확한 원가를 보고하기 위하여 작성하는 보고서이다. 당기제품제조원가는 기초재공품 재고액에 당기 총제조비용을 더하고, 여기에 기말재 공품을 차감하여 구한다.  회계단위, 기준일자, 계정레벨을 선택한 다음 (조회) 버튼을 누르면 해당 조건의 원가명 세서가 조회된다.  '회계단위'를 복수로 선택하면 여러 회계단위의 자료가 합산되어서 조회된다.  당기 기준일자, 전기 기준일자를 원하는 기간으로 조회한다.  구분의 제조 1 은 '700'번대 원가계정, 제조 2 는 '800'번대 원가계정을 의미한다. 198 5) 현금흐름표 현금흐름표는 일정기간 동안의 기업의 현금흐름을 보여준다.  회계단위, 회계일자를 입력하고 (조회) 버튼을 누른다.  '회계단위'를 복수로 선택하면 여러 회계단위의 자료가 합산되어서 조회된다.  우측상단의 조정금액 클릭하여 조정금액을 입력 할 수 있다. 현금흐름표에 각 항목에 표시되는 금액은 [회계기준정보]-[재무제표설정]-[현금흐름항목등록] 메뉴에서 지정된 항목이 전표입력된 자료의 합계를 불러온다. 따라서 현금흐름표를 작성하기 위해서는 현금흐름표의 관련항목을 등록하여야 한다. 199 6) 이익잉여금처분계산서 매 기수마다 금액을 입력하여 이익이여금처분계산서를 작성 및 보관할 수 있다.  당기 기수, 작업구분 및 당기처분확정일을 선택하여 (조회) 버튼을 누른다.  과목에 맞게 금액을 입력한다.  입력후 (저장) 버튼을 누르면 자료를 저장할 수 있으며 추후에 해당자료를 조회하여 볼 수 있다.  화면 상단의 (재생성) 버튼을 누르게 되면 해당 입력했던 금액들이 모두 지워지고 다시 새롭게 작성할 수 있다. 200 7) 자본변동표 자본변동표는 일정기간 자본금, 자본잉여금, 자본조정, 기타포괄손익누계액, 이익잉여금의 변동에 대한 포괄적인 정보를 제공하는 현황이다.  당기기준일자, 사용언어, 화폐단위를 입력하고 (조회) 버튼을 누른다.  자본변동표는 순자산의 변동내역을 포괄적으로 알 수 있게 해주며, 재무제표 간의 연계 성을 높여 이해가능성을 향상시킨다. 201 자본변동표에 표시되는 내용은 자본변동표 우측상단의 (자본변동항목등록) 버튼에서 등록한 내용 이다. 항목구분이 일반으로 설정된 것은 전표입력된 자료의 합계를 불러온다. 따라서 (추가) 버튼 을 눌러 해당 계정을 연결한다. 자본변동표를 작성하기 위해서는 자본변동항목등록이 선행되어야 한다. 202 8) 기간별손익계산서 기간별손익계산서는 손익계산서를 일정기간 안에서 월별(월누적), 분기별(분기누적), 반기별(반기 누적) 별로 볼 수 있다.  화면 상단의 조회조건에서 '기준일자'를 원하는 날짜로 선택한다.  (기간구분) 버튼을 눌러 사용자가 원하는 시점으로 자료를 조회할 수 있다. 기간구분란 옆의 '누적’ 체크박스를 누르게 되면 선택한 기간구분안에서 누적자료를 확인 할 수 있 다. 203\n",
      "\n"
     ]
    }
   ],
   "source": [
    "extracted_texts = get_text_by_tags(json_file_path, category_answer)\n",
    "    \n",
    "for tag, text in extracted_texts.items():\n",
    "    print(f\"### {tag} ###\\n{text}\\n\")"
   ]
  },
  {
   "cell_type": "code",
   "execution_count": null,
   "metadata": {},
   "outputs": [
    {
     "name": "stdout",
     "output_type": "stream",
     "text": [
      "제공된 문서에는 \"집계는 되지 않으며 다음 기수로 이월되지 않는 관리항목 코드\"에 대한 구체적인 정보가 없습니다. 따라서, \"제공된 문서에는 해당 정보가 없습니다.\"라고 응답합니다.\n"
     ]
    }
   ],
   "source": [
    "final_answer_without_glossary = generate_answer_without_glossary(question, extracted_texts)"
   ]
  },
  {
   "cell_type": "code",
   "execution_count": 184,
   "metadata": {},
   "outputs": [
    {
     "name": "stdout",
     "output_type": "stream",
     "text": [
      "제공된 문서에는 ERP-iU에서 PIVOT 기능의 구체적인 용도에 대한 정보가 없습니다.\n"
     ]
    }
   ],
   "source": [
    "final_answer_with_glossary = generate_answer_with_glossary(question, extracted_texts, glossary)"
   ]
  },
  {
   "cell_type": "code",
   "execution_count": 188,
   "metadata": {},
   "outputs": [
    {
     "name": "stdout",
     "output_type": "stream",
     "text": [
      "[\"2. PIVOT\"]\n"
     ]
    },
    {
     "data": {
      "image/png": "[encoded data removed]",
      "text/plain": [
       "<Figure size 640x480 with 1 Axes>"
      ]
     },
     "metadata": {},
     "output_type": "display_data"
    }
   ],
   "source": [
    "image = select_image(question)\n",
    "image = ast.literal_eval(image)\n",
    "\n",
    "display_images(image)"
   ]
  },
  {
   "cell_type": "markdown",
   "metadata": {},
   "source": [
    "# 결론\n",
    "\n",
    "### 프롬프트 구체적으로 작성하면 성능 좋다"
   ]
  }
 ],
 "metadata": {
  "kernelspec": {
   "display_name": "Python 3",
   "language": "python",
   "name": "python3"
  },
  "language_info": {
   "codemirror_mode": {
    "name": "ipython",
    "version": 3
   },
   "file_extension": ".py",
   "mimetype": "text/x-python",
   "name": "python",
   "nbconvert_exporter": "python",
   "pygments_lexer": "ipython3",
   "version": "3.13.2"
  }
 },
 "nbformat": 4,
 "nbformat_minor": 2
}
