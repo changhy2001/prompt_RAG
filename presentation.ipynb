{
 "cells": [
  {
   "cell_type": "code",
   "execution_count": null,
   "metadata": {},
   "outputs": [],
   "source": [
    "%pip install openai langchain PyPDF2 pypdf\n",
    "%pip install -U langchain-community\n",
    "%pip install python-dotenv"
   ]
  },
  {
   "cell_type": "code",
   "execution_count": 170,
   "metadata": {},
   "outputs": [],
   "source": [
    "import os\n",
    "from openai import OpenAI\n",
    "from dotenv import load_dotenv\n",
    "\n",
    "load_dotenv()\n",
    "\n",
    "openai_api_key = os.getenv(\"OPENAI_API_KEY\")\n",
    "client = OpenAI()"
   ]
  },
  {
   "cell_type": "markdown",
   "metadata": {},
   "source": [
    "## PDF 바탕으로 1차로 전처리 후 md로 저장. \n",
    "## 그 md 파일을 바탕으로 답변 생성\n",
    "\n",
    "(정확도 증가)"
   ]
  },
  {
   "cell_type": "markdown",
   "metadata": {},
   "source": [
    "### Full text를 다 넣어줬을 때 (카테고라이징 전)"
   ]
  },
  {
   "cell_type": "code",
   "execution_count": 443,
   "metadata": {},
   "outputs": [
    {
     "name": "stdout",
     "output_type": "stream",
     "text": [
      "답변: 제공된 문서에서 \"프로젝트 코드\"에 대한 정보는 제 2 절 시스템관리의 \"프로젝트 정보등록\" 부분에 언급되어 있습니다. \n",
      "\n",
      "1) **프로젝트 기본정보 등록**\n",
      "   - 프로젝트번호: 20 자리 이내로 등록 가능하며, 계약일을 입력해야 합니다.\n",
      "   - 거래처 및 사업장을 연결하여 등록해야 합니다.\n",
      "\n",
      "프로젝트 코드에 대한 더 구체적인 설정 조건은 문서에서 찾을 수 없습니다. 제공된 문서에는 프로젝트 관련 내용이 간략하게 언급되어 있으나, 적절한 상세 설명은 없으므로, 추가적인 정보는 관련 시스템의 매뉴얼이나 지원팀에 문의해야 할 것입니다.\n"
     ]
    }
   ],
   "source": [
    "question = \"프로젝트 코드 설정 조건에 대해 알려주세요.\"\n",
    "\n",
    "with open(\"document/example.md\", 'r', encoding='utf-8') as txt_file:\n",
    "        pdf_text = txt_file.read()\n",
    "\n",
    "prompt = f\"\"\"\n",
    "# 목표\n",
    "- 사용자 질문을 분석하여 핵심 정보를 파악합니다.\n",
    "- 제공된 문서에서 관련 내용을 찾아 정확하고 구체적인 답변을 제공합니다.\n",
    "- 문서에 해당 내용이 없을 경우, \"제공된 문서에는 해당 정보가 없습니다.\"라고 응답하세요.\n",
    "- 전문 용어가 필요할 경우, 제공된 용어집을 참고하여 적절한 용어를 사용하세요.\n",
    "- 응답 형식은 간결하지만, 필요하면 세부적인 정보를 포함해야 합니다.\n",
    "\n",
    "# 제약 사항\n",
    "- 문서에 있는 정보만 사용하여 답변하세요.\n",
    "- 불확실한 정보는 생성하지 마세요.\n",
    "- 질문과 직접적으로 관련된 문서 내용을 인용하여 답변을 작성하세요.\n",
    "\n",
    "# 입력 문서\n",
    "다음은 사용자가 제공한 문서 내용입니다.\n",
    "{pdf_text}\n",
    "\n",
    "# 사용자의 질문 \n",
    "{question}\n",
    "\n",
    "\"\"\"\n",
    "\n",
    "response = client.chat.completions.create(\n",
    "        model=\"gpt-4o-mini\",\n",
    "        messages=[\n",
    "            {\"role\": \"system\", \"content\": \"문서 내용을 참고해서 질문에 대해 답변해주세요.\"},\n",
    "            {\"role\": \"user\", \"content\": prompt}\n",
    "        ]\n",
    "    )\n",
    "\n",
    "print(\"답변: \" + response.choices[0].message.content)"
   ]
  },
  {
   "cell_type": "markdown",
   "metadata": {},
   "source": [
    "### 카테고라이징 후"
   ]
  },
  {
   "cell_type": "markdown",
   "metadata": {},
   "source": [
    "문서 전처리"
   ]
  },
  {
   "cell_type": "code",
   "execution_count": 173,
   "metadata": {},
   "outputs": [],
   "source": [
    "import re\n",
    "\n",
    "# 카테고리 생성 함수\n",
    "def generate_categorized_txt(input_file_path):\n",
    "    with open(input_file_path, 'r', encoding='utf-8') as file:\n",
    "        content = file.read()\n",
    "\n",
    "    prompt = f\"\"\"\n",
    "    # 목표\n",
    "    - 문서의 주요 내용을 파악하여 논리적인 목차를 구성합니다.\n",
    "    - 목차는 계층적으로 구성되며, 최대 2단계까지 세분화됩니다.\n",
    "    - 일관된 포맷을 유지해야 합니다.\n",
    "\n",
    "    # 출력 형식\n",
    "    출력은 다음과 같은 형식을 따라야 합니다.\n",
    "    1. [대주제] 1.1 [중주제]\n",
    "\n",
    "    # 지침\n",
    "    - 제목을 최대한 간결하게 작성합니다.\n",
    "    - 중복되는 내용을 배제하고, 문서의 핵심 내용을 반영합니다.\n",
    "    - 문서의 흐름을 고려하여 논리적인 순서로 정리합니다.\n",
    "\n",
    "    # 입력\n",
    "    다음은 분석할 Markdown 문서입니다:\n",
    "\n",
    "    {content}\n",
    "\n",
    "    # 출력 예시\n",
    "    1. 원가계산체계정의\n",
    "        1.1 원가계산기준\n",
    "        1.2 원가구조 및 원가계정체계\n",
    "        1.3 표준재고단가등록\n",
    "        1.4 제품재투입단가등록/제품이동단가등록\n",
    "\n",
    "    # 출력\n",
    "    (여기에 목차를 출력)\n",
    "    ...\n",
    "    \"\"\"\n",
    "\n",
    "    response = client.chat.completions.create(\n",
    "            model=\"gpt-4o-mini\",\n",
    "            messages=[ \n",
    "                {\"role\": \"system\", \"content\": \"당신은 문서 분석을 전문으로 하는 AI입니다. 주어진 Markdown 파일의 내용을 기반으로 정확하고 논리적인 목차를 생성하세요.\"},\n",
    "                {\"role\": \"user\", \"content\": prompt}\n",
    "            ],\n",
    "            temperature = 0.2\n",
    "        )\n",
    "\n",
    "    table_of_contents = response.choices[0].message.content\n",
    "\n",
    "    output_file_path = \"document/categorized.md\"\n",
    "    with open(output_file_path, 'w', encoding='utf-8') as output_file:\n",
    "        output_file.write(table_of_contents)\n",
    "\n",
    "    return table_of_contents"
   ]
  },
  {
   "cell_type": "code",
   "execution_count": null,
   "metadata": {},
   "outputs": [],
   "source": [
    "input_file_path = \"document/example.md\"\n",
    "generate_categorized_txt(input_file_path)"
   ]
  },
  {
   "cell_type": "code",
   "execution_count": null,
   "metadata": {},
   "outputs": [],
   "source": [
    "# 파일의 내용을 불러오는 함수\n",
    "def load_data_from_file(filename):\n",
    "    texts = []\n",
    "    with open(filename, 'r', encoding='utf-8') as file:\n",
    "        for line in file:\n",
    "            text = line.strip()\n",
    "            if text:\n",
    "                texts.append(text)\n",
    "    return texts"
   ]
  },
  {
   "cell_type": "code",
   "execution_count": null,
   "metadata": {},
   "outputs": [
    {
     "name": "stdout",
     "output_type": "stream",
     "text": [
      "[\"1. ERP-IU 소개\", \"2. 시스템 관리\", \"3. 회계기준정보\", \"4. 재무관리\", \"5. 건별 반제관리\", \"6. 외화관리\", \"7. 재무제표 관리\", \"8. 결산관리\", \"9. 손익관리\", \"10. 원가관리\", \"11. 배부관리\"]\n"
     ]
    }
   ],
   "source": [
    "categories = load_data_from_file(\"document/categorized.md\")\n",
    "\n",
    "def select_tag_from_category(categories):\n",
    "    prompt = f\"\"\"\n",
    "\n",
    "    # 목표\n",
    "    - 목차의 최상위 레벨(1단계) 항목을 태그로 변환합니다.\n",
    "    - 태그는 **반드시** 최상위 항목의 제목을 그대로 사용해야 합니다.\n",
    "    - 태그는 str 형식으로 반환되어야 합니다.\n",
    "\n",
    "    # 입력\n",
    "    다음은 목차입니다:\n",
    "    {categories}\n",
    "\n",
    "    # 출력 형식\n",
    "    - 태그는 반드시 아래 형식을 따라야 합니다.\n",
    "    [\"1. 최상위 항목1\", \"2. 최상위 항목2\", \"3. 최상위 항목3\"]\n",
    "\n",
    "    # 예시\n",
    "    ## 입력\n",
    "    카테고리:\n",
    "    1. 대학교\n",
    "        1.1 입학 준비\n",
    "        1.2 학과 소개\n",
    "    2. 중학교\n",
    "        2.1 학생 지원\n",
    "        2.2 교육과정\n",
    "    3. 교육정책\n",
    "        3.1 교육과정 개편\n",
    "        3.2 교육과정 평가\n",
    "    4. 입시제도\n",
    "        4.1 입시제도 개편\n",
    "        4.2 입시제도 평가\n",
    "    \n",
    "    ## 출력\n",
    "    [\"1. 대학교\", \"2. 중학교\", \"3. 교육정책\", \"4. 입시제도\"]\n",
    "\n",
    "    \"\"\"\n",
    "    response = client.chat.completions.create(\n",
    "        model=\"gpt-4o-mini\",\n",
    "        messages=[\n",
    "            {\"role\": \"system\", \"content\": \"당신은 문서 분석을 전문으로 하는 AI입니다. 주어진 목차를 분석하여 최상위 항목을 기반으로 태그를 생성해야 합니다.\"},\n",
    "            {\"role\": \"user\", \"content\": prompt}\n",
    "        ]\n",
    "    )\n",
    "\n",
    "    return response.choices[0].message.content\n",
    "\n",
    "tags = select_tag_from_category(categories)\n",
    "print(tags)"
   ]
  },
  {
   "cell_type": "markdown",
   "metadata": {},
   "source": [
    "### 사용자 질문에서 관련 카테고리 추출"
   ]
  },
  {
   "cell_type": "code",
   "execution_count": 361,
   "metadata": {},
   "outputs": [],
   "source": [
    "# 사용자가 질문을 입력하면 해당 카테고리 항목을 반환하는 함수\n",
    "def score_tag_for_question(question):\n",
    "\n",
    "    prompt = f\"\"\"\n",
    "    # 목표\n",
    "    - 사용자의 질문을 분석하여 핵심 주제를 파악합니다.\n",
    "    - 주어진 카테고리를 바탕으로 모든 태그에 대해 0~100 사이로 점수를 매깁니다. \n",
    "    - 출력 형식을 반드시 지켜야 하며, 총점만 출력하면 됩니다.\n",
    "\n",
    "    # 입력\n",
    "    사용자의 질문과 카테고리 및 태그 목록이 주어집니다.\n",
    "\n",
    "    질문: {question}\n",
    "    \n",
    "    카테고리: {categories}\n",
    "    태그: {tags}\n",
    "\n",
    "    # 평가 기준\n",
    "    - 관련성 (40점): 사용자의 질문과 가장 관련성이 높은 태그를 선택했는가?\n",
    "    - 의미적 유사도 (30점): 질문의 의도가 해당 태그와 유사한가?\n",
    "    - 논리적 적절성 (30점): 태그가 질문의 문맥과 논리적으로 일관되는가?\n",
    "    \n",
    "    # 출력 형식\n",
    "    태그명1: 85\n",
    "    태그명2: 60\n",
    "    태그명3: 95\n",
    "\n",
    "    # 지침\n",
    "    - 반드시 모든 태그에 대해 점수를 매겨야합니다.\n",
    "\n",
    "    # 예시\n",
    "    ## 입력\n",
    "    질문: \"대학교 입학 준비는 어떻게 하면 좋을까요?\"\n",
    "\n",
    "    카테고리:\n",
    "    1. 대학교\n",
    "        1.1 입학 준비\n",
    "        1.2 학과 소개\n",
    "    2. 중학교\n",
    "        2.1 학생 지원\n",
    "        2.2 교육과정\n",
    "    3. 교육정책\n",
    "        3.1 교육과정 개편\n",
    "        3.2 교육과정 평가\n",
    "    4. 입시제도\n",
    "        4.1 입시제도 개편\n",
    "        4.2 입시제도 평가\n",
    "    태그: [\"1. 대학교\", \"2. 중학교\", \"3. 교육정책\", \"4. 입시제도\"]\n",
    "\n",
    "    ## 출력\n",
    "    1. 대학교: 85\n",
    "    2. 중학교: 50\n",
    "    3. 교육정책: 75\n",
    "    4. 입시제도: 90\n",
    "\n",
    "    \"\"\"\n",
    "    \n",
    "    response = client.chat.completions.create(\n",
    "            model=\"gpt-4o-mini\",\n",
    "            messages=[\n",
    "                {\"role\": \"system\", \"content\": \"당신은 사용자의 질문과 미리 정의된 카테고리를 비교하여 가장 적절한 태그를 선택하는 AI입니다. 반드시 제공된 태그 중에서만 선택해야 합니다.\"},\n",
    "                {\"role\": \"user\", \"content\": prompt}\n",
    "            ],\n",
    "            temperature = 0.2\n",
    "        )\n",
    "    \n",
    "    response_text = response.choices[0].message.content\n",
    "\n",
    "    # 모델의 응답을 기반으로 해당 카테고리 항목을 반환\n",
    "    return response_text"
   ]
  },
  {
   "cell_type": "code",
   "execution_count": 412,
   "metadata": {},
   "outputs": [],
   "source": [
    "# 80 이상 점수를 받은 카테고리 항목을 반환하는 함수\n",
    "def filter_high_scores(text: str, threshold: int = 70):\n",
    "    high_scores = []\n",
    "    \n",
    "    matches = re.findall(r\"(.+?): (\\d+)\", text)\n",
    "    \n",
    "    for subject, score in matches:\n",
    "        if int(score) >= threshold:\n",
    "            high_scores.append((subject, int(score)))\n",
    "    \n",
    "    high_scores.sort(key=lambda x: x[1], reverse=True)\n",
    "    \n",
    "    return [subject for subject, score in high_scores]\n"
   ]
  },
  {
   "cell_type": "code",
   "execution_count": null,
   "metadata": {},
   "outputs": [],
   "source": [
    "import json, ast\n",
    "\n",
    "# JSON 파일을 읽어와서 선택된 태그에 해당하는 텍스트를 반환하는 함수\n",
    "def get_text_by_tags(json_file: str, selected_tags: list):\n",
    "\n",
    "    with open(json_file, \"r\", encoding=\"utf-8\") as f:\n",
    "        data = json.load(f)\n",
    "    selected_texts = {tag: data[tag] for tag in selected_tags if tag in data}\n",
    "\n",
    "    return selected_texts\n",
    "\n",
    "json_file_path = \"document/splitted.json\""
   ]
  },
  {
   "cell_type": "markdown",
   "metadata": {},
   "source": [
    "### 최종 답변 생성"
   ]
  },
  {
   "cell_type": "markdown",
   "metadata": {},
   "source": [
    "용어집 참고 전"
   ]
  },
  {
   "cell_type": "code",
   "execution_count": 193,
   "metadata": {},
   "outputs": [],
   "source": [
    "# 최종 답변 생성 (용어집 참고 X)\n",
    "def generate_answer_without_glossary(question, input_text):\n",
    "    prompt = f\"\"\"\n",
    "    # 목표\n",
    "    - 사용자 질문을 분석하여 핵심 정보를 파악합니다.\n",
    "    - 제공된 문서에서 관련 내용을 찾아 정확한 답변을 제공합니다.\n",
    "    - 문서에 해당 내용이 없을 경우, \"제공된 문서에는 해당 정보가 없습니다.\"라고 응답하세요.\n",
    "    - 응답 형식은 간결하지만, 필요하면 세부적인 정보를 포함해야 합니다.\n",
    "\n",
    "    # 제약 사항\n",
    "    - 문서에 있는 정보만 사용하여 답변하세요.\n",
    "    - 불확실한 정보는 생성하지 마세요.\n",
    "    - 질문과 직접적으로 관련된 문서 내용을 인용하여 답변을 작성하세요.\n",
    "\n",
    "    # 입력 문서\n",
    "    다음은 사용자가 제공한 문서 내용입니다.\n",
    "    {input_text}\n",
    "\n",
    "    # 사용자의 질문 \n",
    "    {question}\n",
    "    \n",
    "    \"\"\"\n",
    "    \n",
    "    response = client.chat.completions.create(\n",
    "            model=\"gpt-4o-mini\",\n",
    "            messages=[\n",
    "                {\"role\": \"system\", \"content\": \"당신은 사용자가 제공한 문서를 기반으로 질문에 답하는 AI 비서입니다. 답변을 작성할 때 반드시 주어진 문서의 내용을 바탕으로 하며, 문서에 없는 정보는 절대 생성하지 마십시오.\"},\n",
    "                {\"role\": \"user\", \"content\": prompt}\n",
    "            ],\n",
    "            temperature = 0.2\n",
    "        )\n",
    "    \n",
    "    response_text = response.choices[0].message.content\n",
    "    print(response_text)\n",
    "\n",
    "    # 모델의 응답을 기반으로 해당 카테고리 항목을 반환\n",
    "    return response_text"
   ]
  },
  {
   "cell_type": "markdown",
   "metadata": {},
   "source": [
    "용어집 참고 후"
   ]
  },
  {
   "cell_type": "code",
   "execution_count": 196,
   "metadata": {},
   "outputs": [],
   "source": [
    "# 용어집 로딩\n",
    "def load_glossary(glossary_file: str):\n",
    "\n",
    "    with open(glossary_file, \"r\", encoding=\"utf-8\") as f:\n",
    "        glossary = json.load(f)\n",
    "    return glossary\n",
    "\n",
    "glossary_file = \"glossary.json\"\n",
    "glossary = load_glossary(glossary_file)"
   ]
  },
  {
   "cell_type": "code",
   "execution_count": 262,
   "metadata": {},
   "outputs": [],
   "source": [
    "#  최종 답변 생성 (용어집 참고 O) - 정확도 높음/ hallucination 낮음/ 답변 생성 불가능한 경우 발생\n",
    "def generate_answer_with_glossary_accurate(question, input_text, glossary):\n",
    "    prompt = f\"\"\"\n",
    "    # 목표\n",
    "    - 사용자 질문을 분석하여 핵심 정보를 파악합니다.\n",
    "    - 제공된 문서에서 관련 내용을 찾아 정확하고 구체적인 답변을 제공합니다.\n",
    "    - 문서에 해당 내용이 없을 경우, \"제공된 문서에는 해당 정보가 없습니다.\"라고 응답하세요.\n",
    "    - 전문 용어가 필요할 경우, 제공된 용어집을 참고하여 적절한 용어를 사용하세요.\n",
    "    - 응답 형식은 간결하지만, 필요하면 세부적인 정보를 포함해야 합니다.\n",
    "\n",
    "    # 제약 사항\n",
    "    - 문서에 있는 정보를 사용하여 답변하세요. \n",
    "    - 불확실한 정보는 생성하지 마세요.\n",
    "    - 질문과 직접적으로 관련된 문서 내용을 인용하여 답변을 작성하세요.\n",
    "\n",
    "    # 용어집\n",
    "    아래는 전문 용어의 정의입니다.  \n",
    "    필요할 경우 적절한 용어를 사용하여 답변을 작성하세요.\n",
    "    {glossary}\n",
    "\n",
    "    # 입력 문서\n",
    "    다음은 사용자가 제공한 문서 내용입니다.\n",
    "    {input_text}\n",
    "\n",
    "    # 사용자의 질문 \n",
    "    {question}\n",
    "    \n",
    "    \"\"\"\n",
    "    \n",
    "    response = client.chat.completions.create(\n",
    "            model=\"gpt-4o-mini\",\n",
    "            messages=[\n",
    "                {\"role\": \"system\", \"content\": \"당신은 사용자가 제공한 문서를 기반으로 질문에 답하는 AI 비서입니다. 답변을 작성할 때 반드시 주어진 문서의 내용을 바탕으로 생성하세요. 또한, 전문 용어가 필요할 경우 제공된 용어집을 참고하여 정확한 용어를 사용하십시오\"},\n",
    "                {\"role\": \"user\", \"content\": prompt}\n",
    "            ],\n",
    "            temperature = 0.2\n",
    "        )\n",
    "    \n",
    "    response_text = response.choices[0].message.content\n",
    "    print(response_text)\n",
    "\n",
    "    # 모델의 응답을 기반으로 해당 카테고리 항목을 반환\n",
    "    return response_text"
   ]
  },
  {
   "cell_type": "code",
   "execution_count": 258,
   "metadata": {},
   "outputs": [],
   "source": [
    "# 최종 답변 생성 (용어집 참고 O) - 정확도 낮음/ hallucination 높음/ 답변 생성 불가능한 경우 거의 없음\n",
    "def generate_answer_with_glossary_hallucination(question, input_text, glossary):\n",
    "    prompt = f\"\"\"\n",
    "    # 목표\n",
    "    - 사용자 질문을 분석하여 핵심 정보를 파악합니다.\n",
    "    - 제공된 문서에서 관련 내용을 찾아 정확하고 구체적인 답변을 제공합니다.\n",
    "    - 전문 용어가 필요할 경우, 제공된 용어집을 참고하여 적절한 용어를 사용하세요.\n",
    "    - 응답 형식은 간결하지만, 필요하면 세부적인 정보를 포함해야 합니다.\n",
    "\n",
    "    # 제약 사항\n",
    "    - 문서에 있는 정보를 사용하여 답변하세요. \n",
    "\n",
    "    # 용어집\n",
    "    아래는 전문 용어의 정의입니다.  \n",
    "    필요할 경우 적절한 용어를 사용하여 답변을 작성하세요.\n",
    "    {glossary}\n",
    "\n",
    "    # 입력 문서\n",
    "    다음은 사용자가 제공한 문서 내용입니다.\n",
    "    {input_text}\n",
    "\n",
    "    # 사용자의 질문 \n",
    "    {question}\n",
    "    \n",
    "    \"\"\"\n",
    "    \n",
    "    response = client.chat.completions.create(\n",
    "            model=\"gpt-4o-mini\",\n",
    "            messages=[\n",
    "                {\"role\": \"system\", \"content\": \"당신은 사용자가 제공한 문서를 기반으로 질문에 답하는 AI 비서입니다. 답변을 작성할 때 반드시 주어진 문서의 내용을 바탕으로 생성하세요. 또한, 전문 용어가 필요할 경우 제공된 용어집을 참고하여 정확한 용어를 사용하십시오\"},\n",
    "                {\"role\": \"user\", \"content\": prompt}\n",
    "            ],\n",
    "            temperature = 0.5\n",
    "        )\n",
    "    \n",
    "    response_text = response.choices[0].message.content\n",
    "    print(response_text)\n",
    "\n",
    "    # 모델의 응답을 기반으로 해당 카테고리 항목을 반환\n",
    "    return response_text"
   ]
  },
  {
   "cell_type": "markdown",
   "metadata": {},
   "source": [
    "이미지 추가"
   ]
  },
  {
   "cell_type": "code",
   "execution_count": null,
   "metadata": {},
   "outputs": [],
   "source": [
    "pip install matplotlib\n"
   ]
  },
  {
   "cell_type": "code",
   "execution_count": 143,
   "metadata": {},
   "outputs": [
    {
     "name": "stderr",
     "output_type": "stream",
     "text": [
      "Matplotlib is building the font cache; this may take a moment.\n"
     ]
    }
   ],
   "source": [
    "import matplotlib.pyplot as plt\n",
    "import matplotlib.image as mpimg"
   ]
  },
  {
   "cell_type": "code",
   "execution_count": 444,
   "metadata": {},
   "outputs": [],
   "source": [
    "png_images = load_data_from_file(\"image_tag.md\")\n",
    "\n",
    "# 사용자가 질문을 입력하면 해당 카테고리 항목을 반환하는 함수\n",
    "def select_image(question):\n",
    "\n",
    "    prompt = f\"\"\"\n",
    "    \n",
    "    # 목표\n",
    "    - 사용자가 제공한 질문을 이해하고 핵심 내용을 파악합니다.\n",
    "    - 이미지 리스트에서 질문과 가장 연관성이 높은 이미지를 찾습니다.\n",
    "    - 선택한 이미지의 태그를 반환합니다.\n",
    "    - 적절한 이미지가 없을 경우, \"None\"을 반환합니다.\n",
    "\n",
    "    # 이미지 태그 예시\n",
    "    [\"1. 이미지1\", \"2. 이미지2\", \"3. 이미지3\", \"4. 이미지4\", \"5. 이미지5\"]\n",
    "\n",
    "    # 출력 형식\n",
    "    - 관련 이미지가 있을 경우: \n",
    "    [\"3. 이미지3\", \"5. 이미지5\"]\n",
    "    - 관련 이미지가 없을 경우: \n",
    "    [\"None\"]\n",
    "\n",
    "    # 사용자 질문\n",
    "    {question}\n",
    "\n",
    "    # 이미지 태그\n",
    "    {png_images}\n",
    "\n",
    "    \"\"\"\n",
    "    \n",
    "    response = client.chat.completions.create(\n",
    "            model=\"gpt-4o-mini\",\n",
    "            messages=[\n",
    "                {\"role\": \"system\", \"content\": \"당신은 이미지 데이터베이스에서 사용자의 질문과 가장 관련성이 높은 이미지를 찾는 AI 비서입니다. 당신의 목표는 질문에 가장 적합한 이미지를 식별하고 해당 이미지의 태그를 반환하는 것입니다.\"},\n",
    "                {\"role\": \"user\", \"content\": prompt}\n",
    "            ]\n",
    "        )\n",
    "    \n",
    "    response_text = response.choices[0].message.content\n",
    "    print(response_text)\n",
    "\n",
    "    # 모델의 응답을 기반으로 해당 카테고리 항목을 반환\n",
    "    return response_text\n"
   ]
  },
  {
   "cell_type": "code",
   "execution_count": 187,
   "metadata": {},
   "outputs": [],
   "source": [
    "def display_images(image_titles):\n",
    "    image_filenames = [f\"image/{title}.png\" for title in image_titles]\n",
    "\n",
    "    for image_path in image_filenames:\n",
    "        if os.path.exists(image_path):\n",
    "            img = mpimg.imread(image_path)\n",
    "            plt.imshow(img)\n",
    "            plt.axis('off')\n",
    "            plt.show()\n",
    "        else:\n",
    "            print(f\"Error: Image file '{image_path}' not found.\")"
   ]
  },
  {
   "cell_type": "markdown",
   "metadata": {},
   "source": [
    "# 여기부터 실행"
   ]
  },
  {
   "cell_type": "code",
   "execution_count": 439,
   "metadata": {},
   "outputs": [
    {
     "name": "stdout",
     "output_type": "stream",
     "text": [
      "1. ERP-IU 소개: 70\n",
      "2. 시스템 관리: 90\n",
      "3. 회계기준정보: 60\n",
      "4. 재무관리: 50\n",
      "5. 건별 반제관리: 40\n",
      "6. 외화관리: 30\n",
      "7. 재무제표 관리: 50\n",
      "8. 결산관리: 40\n",
      "9. 손익관리: 60\n",
      "10. 원가관리: 30\n",
      "11. 배부관리: 20\n"
     ]
    }
   ],
   "source": [
    "# 예시 질문 입력\n",
    "question = \"프로젝트 코드 설정 조건에 대해 알려주세요.\"\n",
    "\n",
    "# 각 태그의 점수 반환\n",
    "tag_score = score_tag_for_question(question)\n",
    "print(tag_score)"
   ]
  },
  {
   "cell_type": "code",
   "execution_count": 445,
   "metadata": {},
   "outputs": [
    {
     "name": "stdout",
     "output_type": "stream",
     "text": [
      "['2. 시스템 관리', '1. ERP-IU 소개']\n"
     ]
    }
   ],
   "source": [
    "# 80 이상 점수를 받은 태그 항목을 반환\n",
    "category_answer = filter_high_scores(tag_score)\n",
    "\n",
    "print(category_answer)"
   ]
  },
  {
   "cell_type": "code",
   "execution_count": null,
   "metadata": {},
   "outputs": [],
   "source": [
    "# 선택된 태그의 실제 본문 반환\n",
    "extracted_texts = get_text_by_tags(json_file_path, category_answer)\n",
    "    \n",
    "for tag, text in extracted_texts.items():\n",
    "    print(f\"### {tag} ###\\n{text}\\n\")"
   ]
  },
  {
   "cell_type": "code",
   "execution_count": 447,
   "metadata": {},
   "outputs": [
    {
     "name": "stdout",
     "output_type": "stream",
     "text": [
      "제공된 문서에는 \"프로젝트 코드 설정 조건\"에 대한 구체적인 정보가 없습니다.\n"
     ]
    }
   ],
   "source": [
    "# 용어집 참고 X 답변\n",
    "final_answer_without_glossary = generate_answer_without_glossary(question, extracted_texts)"
   ]
  },
  {
   "cell_type": "code",
   "execution_count": 448,
   "metadata": {},
   "outputs": [
    {
     "name": "stdout",
     "output_type": "stream",
     "text": [
      "제공된 문서에는 프로젝트 코드 설정 조건에 대한 구체적인 내용이 없습니다.\n"
     ]
    }
   ],
   "source": [
    "# 용어집 참고 O 답변 (accuracy 높음, but 답변 생성 불가)\n",
    "final_answer_with_glossary = generate_answer_with_glossary_accurate(question, extracted_texts, glossary)"
   ]
  },
  {
   "cell_type": "code",
   "execution_count": 449,
   "metadata": {},
   "outputs": [
    {
     "name": "stdout",
     "output_type": "stream",
     "text": [
      "프로젝트 코드 설정 조건에 대한 정보는 다음과 같습니다:\n",
      "\n",
      "- **프로젝트번호**: 20자리 이내로 등록 가능합니다.\n",
      "- **계약일**: 프로젝트의 계약일을 입력해야 하며, 이는 필수 선택사항입니다.\n",
      "- **거래처**: 해당 프로젝트에 연결할 거래처를 지정해야 합니다.\n",
      "- **사업장**: 프로젝트를 진행하는 사업장을 연결해야 합니다.\n",
      "\n",
      "이와 같은 조건을 충족하여 프로젝트 코드를 설정하면 됩니다.\n"
     ]
    }
   ],
   "source": [
    "# 용어집 참고 O 답변 (hallucination 높음, but 답변 생성 가능)\n",
    "final_answer_with_glossary = generate_answer_with_glossary_hallucination(question, extracted_texts, glossary)"
   ]
  },
  {
   "cell_type": "code",
   "execution_count": 450,
   "metadata": {},
   "outputs": [
    {
     "name": "stdout",
     "output_type": "stream",
     "text": [
      "[\"None\"]\n",
      "Error: Image file 'image/None.png' not found.\n"
     ]
    }
   ],
   "source": [
    "image = select_image(question)\n",
    "image = ast.literal_eval(image)\n",
    "\n",
    "display_images(image)"
   ]
  },
  {
   "cell_type": "markdown",
   "metadata": {},
   "source": [
    "# 결론\n",
    "\n",
    "### 프롬프트 구체적으로 작성하면 성능 좋다"
   ]
  }
 ],
 "metadata": {
  "kernelspec": {
   "display_name": "Python 3",
   "language": "python",
   "name": "python3"
  },
  "language_info": {
   "codemirror_mode": {
    "name": "ipython",
    "version": 3
   },
   "file_extension": ".py",
   "mimetype": "text/x-python",
   "name": "python",
   "nbconvert_exporter": "python",
   "pygments_lexer": "ipython3",
   "version": "3.13.2"
  }
 },
 "nbformat": 4,
 "nbformat_minor": 2
}
